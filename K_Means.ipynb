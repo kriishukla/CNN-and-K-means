{
  "metadata": {
    "kernelspec": {
      "language": "python",
      "display_name": "Python 3",
      "name": "python3"
    },
    "language_info": {
      "name": "python",
      "version": "3.10.14",
      "mimetype": "text/x-python",
      "codemirror_mode": {
        "name": "ipython",
        "version": 3
      },
      "pygments_lexer": "ipython3",
      "nbconvert_exporter": "python",
      "file_extension": ".py"
    },
    "kaggle": {
      "accelerator": "none",
      "dataSources": [],
      "dockerImageVersionId": 30786,
      "isInternetEnabled": true,
      "language": "python",
      "sourceType": "notebook",
      "isGpuEnabled": false
    },
    "colab": {
      "name": "K-Means",
      "provenance": []
    }
  },
  "nbformat_minor": 0,
  "nbformat": 4,
  "cells": [
    {
      "cell_type": "code",
      "source": [
        "import numpy as np\n",
        "import matplotlib.pyplot as plt"
      ],
      "metadata": {
        "trusted": true,
        "execution": {
          "iopub.status.busy": "2024-11-28T08:05:05.61813Z",
          "iopub.execute_input": "2024-11-28T08:05:05.6185Z",
          "iopub.status.idle": "2024-11-28T08:05:05.646795Z",
          "shell.execute_reply.started": "2024-11-28T08:05:05.618452Z",
          "shell.execute_reply": "2024-11-28T08:05:05.64571Z"
        },
        "id": "T_nPdgXk2swg"
      },
      "outputs": [],
      "execution_count": null
    },
    {
      "cell_type": "code",
      "source": [
        "u1 = np.array([3.0, 3.0])\n",
        "u2 = np.array([2.0, 2.0])\n",
        "\n",
        "X = np.array([\n",
        "    [5.1, 3.5],\n",
        "    [4.9, 3.0],\n",
        "    [5.8, 2.7],\n",
        "    [6.0, 3.0],\n",
        "    [6.7, 3.1],\n",
        "    [4.5, 2.3],\n",
        "    [6.1, 2.8],\n",
        "    [5.2, 3.2],\n",
        "    [5.5, 2.6],\n",
        "    [5.0, 2.0],\n",
        "    [8.0, 0.5],\n",
        "    [7.5, 0.8],\n",
        "    [8.1, -0.1],\n",
        "    [2.5, 3.5],\n",
        "    [1.0, 3.0],\n",
        "    [4.5, -1.0],\n",
        "    [3.0, -0.5],\n",
        "    [5.1, -0.2],\n",
        "    [6.0, -1.5],\n",
        "    [3.5, -0.1],\n",
        "    [4.0, 0.0],\n",
        "    [6.1, 0.5],\n",
        "    [5.4, -0.5],\n",
        "    [5.3, 0.3],\n",
        "    [5.8, 0.6]\n",
        "])\n"
      ],
      "metadata": {
        "trusted": true,
        "execution": {
          "iopub.status.busy": "2024-11-28T08:05:05.64881Z",
          "iopub.execute_input": "2024-11-28T08:05:05.649227Z",
          "iopub.status.idle": "2024-11-28T08:05:05.657016Z",
          "shell.execute_reply.started": "2024-11-28T08:05:05.649181Z",
          "shell.execute_reply": "2024-11-28T08:05:05.655779Z"
        },
        "id": "zJ7D_0Qc2swq"
      },
      "outputs": [],
      "execution_count": null
    },
    {
      "cell_type": "code",
      "source": [
        "print(\"u1:\", u1)\n",
        "print(\"u2:\", u2)\n",
        "print(\"Matrix X:\\n\", X)\n"
      ],
      "metadata": {
        "trusted": true,
        "execution": {
          "iopub.status.busy": "2024-11-28T08:05:05.667528Z",
          "iopub.execute_input": "2024-11-28T08:05:05.668704Z",
          "iopub.status.idle": "2024-11-28T08:05:05.676075Z",
          "shell.execute_reply.started": "2024-11-28T08:05:05.668657Z",
          "shell.execute_reply": "2024-11-28T08:05:05.674961Z"
        },
        "id": "b4bYzINV2sws",
        "outputId": "bf5e8e98-019c-405f-eb26-0e1e5db99ece"
      },
      "outputs": [
        {
          "name": "stdout",
          "text": "u1: [3. 3.]\nu2: [2. 2.]\nMatrix X:\n [[ 5.1  3.5]\n [ 4.9  3. ]\n [ 5.8  2.7]\n [ 6.   3. ]\n [ 6.7  3.1]\n [ 4.5  2.3]\n [ 6.1  2.8]\n [ 5.2  3.2]\n [ 5.5  2.6]\n [ 5.   2. ]\n [ 8.   0.5]\n [ 7.5  0.8]\n [ 8.1 -0.1]\n [ 2.5  3.5]\n [ 1.   3. ]\n [ 4.5 -1. ]\n [ 3.  -0.5]\n [ 5.1 -0.2]\n [ 6.  -1.5]\n [ 3.5 -0.1]\n [ 4.   0. ]\n [ 6.1  0.5]\n [ 5.4 -0.5]\n [ 5.3  0.3]\n [ 5.8  0.6]]\n",
          "output_type": "stream"
        }
      ],
      "execution_count": null
    },
    {
      "cell_type": "code",
      "source": [
        "def euclidean_distance(p1, p2):\n",
        "    return np.sqrt(np.sum((p1 - p2) ** 2))"
      ],
      "metadata": {
        "trusted": true,
        "execution": {
          "iopub.status.busy": "2024-11-28T08:05:05.680077Z",
          "iopub.execute_input": "2024-11-28T08:05:05.680378Z",
          "iopub.status.idle": "2024-11-28T08:05:05.688433Z",
          "shell.execute_reply.started": "2024-11-28T08:05:05.680351Z",
          "shell.execute_reply": "2024-11-28T08:05:05.687567Z"
        },
        "id": "uMotvg1n2swu"
      },
      "outputs": [],
      "execution_count": null
    },
    {
      "cell_type": "code",
      "source": [
        "def assign_to_centroids(data_points, centroids):\n",
        "    assignments = []\n",
        "    for point in data_points:\n",
        "        distances = [euclidean_distance(point, centroid) for centroid in centroids]\n",
        "        closest_centroid = np.argmin(distances)\n",
        "        assignments.append(closest_centroid)\n",
        "    return assignments"
      ],
      "metadata": {
        "trusted": true,
        "execution": {
          "iopub.status.busy": "2024-11-28T08:05:05.696007Z",
          "iopub.execute_input": "2024-11-28T08:05:05.696315Z",
          "iopub.status.idle": "2024-11-28T08:05:05.702045Z",
          "shell.execute_reply.started": "2024-11-28T08:05:05.696286Z",
          "shell.execute_reply": "2024-11-28T08:05:05.700926Z"
        },
        "id": "CNICZOS-2swv"
      },
      "outputs": [],
      "execution_count": null
    },
    {
      "cell_type": "code",
      "source": [
        "centroids = [u1, u2]\n",
        "assignments = assign_to_centroids(X, centroids)"
      ],
      "metadata": {
        "trusted": true,
        "execution": {
          "iopub.status.busy": "2024-11-28T08:05:05.711478Z",
          "iopub.execute_input": "2024-11-28T08:05:05.711847Z",
          "iopub.status.idle": "2024-11-28T08:05:05.718703Z",
          "shell.execute_reply.started": "2024-11-28T08:05:05.711816Z",
          "shell.execute_reply": "2024-11-28T08:05:05.71772Z"
        },
        "id": "8ALqaftO2sww"
      },
      "outputs": [],
      "execution_count": null
    },
    {
      "cell_type": "code",
      "source": [
        "for i, point in enumerate(X):\n",
        "    print(f\"Data point {point} is assigned to centroid {assignments[i] + 1}\")"
      ],
      "metadata": {
        "trusted": true,
        "execution": {
          "iopub.status.busy": "2024-11-28T08:05:05.72774Z",
          "iopub.execute_input": "2024-11-28T08:05:05.728063Z",
          "iopub.status.idle": "2024-11-28T08:05:05.736199Z",
          "shell.execute_reply.started": "2024-11-28T08:05:05.728033Z",
          "shell.execute_reply": "2024-11-28T08:05:05.735081Z"
        },
        "id": "cLt1YSkt2swy",
        "outputId": "a53d13e0-7a0b-47ed-b705-d6fda6e6b822"
      },
      "outputs": [
        {
          "name": "stdout",
          "text": "Data point [5.1 3.5] is assigned to centroid 1\nData point [4.9 3. ] is assigned to centroid 1\nData point [5.8 2.7] is assigned to centroid 1\nData point [6. 3.] is assigned to centroid 1\nData point [6.7 3.1] is assigned to centroid 1\nData point [4.5 2.3] is assigned to centroid 1\nData point [6.1 2.8] is assigned to centroid 1\nData point [5.2 3.2] is assigned to centroid 1\nData point [5.5 2.6] is assigned to centroid 1\nData point [5. 2.] is assigned to centroid 1\nData point [8.  0.5] is assigned to centroid 1\nData point [7.5 0.8] is assigned to centroid 1\nData point [ 8.1 -0.1] is assigned to centroid 1\nData point [2.5 3.5] is assigned to centroid 1\nData point [1. 3.] is assigned to centroid 2\nData point [ 4.5 -1. ] is assigned to centroid 2\nData point [ 3.  -0.5] is assigned to centroid 2\nData point [ 5.1 -0.2] is assigned to centroid 2\nData point [ 6.  -1.5] is assigned to centroid 2\nData point [ 3.5 -0.1] is assigned to centroid 2\nData point [4. 0.] is assigned to centroid 2\nData point [6.1 0.5] is assigned to centroid 1\nData point [ 5.4 -0.5] is assigned to centroid 2\nData point [5.3 0.3] is assigned to centroid 1\nData point [5.8 0.6] is assigned to centroid 1\n",
          "output_type": "stream"
        }
      ],
      "execution_count": null
    },
    {
      "cell_type": "code",
      "source": [
        "def update_centroids(data_points, assignments, k):\n",
        "    new_centroids = []\n",
        "    for i in range(k):\n",
        "        assigned_points = data_points[np.array(assignments) == i]\n",
        "        new_centroid = np.mean(assigned_points, axis=0) if len(assigned_points) > 0 else np.zeros_like(data_points[0])\n",
        "        new_centroids.append(new_centroid)\n",
        "    return new_centroids\n"
      ],
      "metadata": {
        "trusted": true,
        "execution": {
          "iopub.status.busy": "2024-11-28T08:05:05.748237Z",
          "iopub.execute_input": "2024-11-28T08:05:05.74861Z",
          "iopub.status.idle": "2024-11-28T08:05:05.754072Z",
          "shell.execute_reply.started": "2024-11-28T08:05:05.748565Z",
          "shell.execute_reply": "2024-11-28T08:05:05.752963Z"
        },
        "id": "N9qrZuak2sw0"
      },
      "outputs": [],
      "execution_count": null
    },
    {
      "cell_type": "code",
      "source": [
        "new_centroids = update_centroids(X, assignments, len(centroids))\n"
      ],
      "metadata": {
        "trusted": true,
        "execution": {
          "iopub.status.busy": "2024-11-28T08:05:05.760889Z",
          "iopub.execute_input": "2024-11-28T08:05:05.761269Z",
          "iopub.status.idle": "2024-11-28T08:05:05.7689Z",
          "shell.execute_reply.started": "2024-11-28T08:05:05.761239Z",
          "shell.execute_reply": "2024-11-28T08:05:05.767822Z"
        },
        "id": "1RbQ4J7T2sw1"
      },
      "outputs": [],
      "execution_count": null
    },
    {
      "cell_type": "code",
      "source": [
        "print(\"\\nNew centroids after the first update:\")\n",
        "for i, centroid in enumerate(new_centroids):\n",
        "    print(f\"Centroid {i + 1}: {centroid}\")"
      ],
      "metadata": {
        "trusted": true,
        "execution": {
          "iopub.status.busy": "2024-11-28T08:05:05.775573Z",
          "iopub.execute_input": "2024-11-28T08:05:05.775864Z",
          "iopub.status.idle": "2024-11-28T08:05:05.782156Z",
          "shell.execute_reply.started": "2024-11-28T08:05:05.775835Z",
          "shell.execute_reply": "2024-11-28T08:05:05.781052Z"
        },
        "id": "rfBLgz2k2sw1",
        "outputId": "2e384463-7c74-4033-f2fe-06b065d3ba8c"
      },
      "outputs": [
        {
          "name": "stdout",
          "text": "\nNew centroids after the first update:\nCentroid 1: [5.77058824 2.01764706]\nCentroid 2: [ 4.0625 -0.1   ]\n",
          "output_type": "stream"
        }
      ],
      "execution_count": null
    },
    {
      "cell_type": "code",
      "source": [
        "def check_convergence(old_centroids, new_centroids, threshold=1e-4):\n",
        "    distances = [euclidean_distance(old, new) for old, new in zip(old_centroids, new_centroids)]\n",
        "    return all(distance < threshold for distance in distances)"
      ],
      "metadata": {
        "trusted": true,
        "execution": {
          "iopub.status.busy": "2024-11-28T08:05:05.787396Z",
          "iopub.execute_input": "2024-11-28T08:05:05.787835Z",
          "iopub.status.idle": "2024-11-28T08:05:05.79478Z",
          "shell.execute_reply.started": "2024-11-28T08:05:05.787771Z",
          "shell.execute_reply": "2024-11-28T08:05:05.793751Z"
        },
        "id": "26kMxFeT2sw2"
      },
      "outputs": [],
      "execution_count": null
    },
    {
      "cell_type": "code",
      "source": [
        "def k_means(data_points, centroids, max_iterations=100, threshold=1e-4):\n",
        "    iteration = 0\n",
        "    while iteration < max_iterations:\n",
        "        assignments = assign_to_centroids(data_points, centroids)\n",
        "\n",
        "        new_centroids = update_centroids(data_points, assignments, len(centroids))\n",
        "\n",
        "        if check_convergence(centroids, new_centroids, threshold):\n",
        "            print(f\"Converged at iteration {iteration + 1}\")\n",
        "            break\n",
        "\n",
        "        centroids = new_centroids\n",
        "        iteration += 1\n",
        "\n",
        "    return centroids, assignments"
      ],
      "metadata": {
        "trusted": true,
        "execution": {
          "iopub.status.busy": "2024-11-28T08:05:05.804251Z",
          "iopub.execute_input": "2024-11-28T08:05:05.804607Z",
          "iopub.status.idle": "2024-11-28T08:05:05.810727Z",
          "shell.execute_reply.started": "2024-11-28T08:05:05.804576Z",
          "shell.execute_reply": "2024-11-28T08:05:05.809722Z"
        },
        "id": "JvDhjaAF2sw2"
      },
      "outputs": [],
      "execution_count": null
    },
    {
      "cell_type": "code",
      "source": [
        "\n",
        "u1 = np.array([3.0, 3.0])\n",
        "u2 = np.array([2.0, 2.0])\n",
        "\n",
        "\n",
        "centroids = [u1, u2]\n",
        "\n",
        "max_iterations = 100"
      ],
      "metadata": {
        "trusted": true,
        "execution": {
          "iopub.status.busy": "2024-11-28T08:05:05.820731Z",
          "iopub.execute_input": "2024-11-28T08:05:05.821074Z",
          "iopub.status.idle": "2024-11-28T08:05:05.828164Z",
          "shell.execute_reply.started": "2024-11-28T08:05:05.821043Z",
          "shell.execute_reply": "2024-11-28T08:05:05.827022Z"
        },
        "id": "kLd_vBBO2sw3"
      },
      "outputs": [],
      "execution_count": null
    },
    {
      "cell_type": "code",
      "source": [
        "final_centroids, final_assignments = k_means(X, centroids)"
      ],
      "metadata": {
        "trusted": true,
        "execution": {
          "iopub.status.busy": "2024-11-28T08:05:05.829748Z",
          "iopub.execute_input": "2024-11-28T08:05:05.830049Z",
          "iopub.status.idle": "2024-11-28T08:05:05.844977Z",
          "shell.execute_reply.started": "2024-11-28T08:05:05.830021Z",
          "shell.execute_reply": "2024-11-28T08:05:05.843967Z"
        },
        "id": "XL1Lgdlx2sw3",
        "outputId": "7d5dd5a5-46a8-4657-81bf-91aee12e0a85"
      },
      "outputs": [
        {
          "name": "stdout",
          "text": "Converged at iteration 3\n",
          "output_type": "stream"
        }
      ],
      "execution_count": null
    },
    {
      "cell_type": "code",
      "source": [
        "print(\"\\nFinal centroids after convergence:\")\n",
        "for i, centroid in enumerate(final_centroids):\n",
        "    print(f\"Centroid {i + 1}: {centroid}\")\n",
        "\n",
        "print(\"\\nFinal assignments after convergence:\")\n",
        "for i, point in enumerate(X):\n",
        "    print(f\"Data point {point} is assigned to centroid {final_assignments[i] + 1}\")"
      ],
      "metadata": {
        "trusted": true,
        "execution": {
          "iopub.status.busy": "2024-11-28T08:05:05.846949Z",
          "iopub.execute_input": "2024-11-28T08:05:05.847397Z",
          "iopub.status.idle": "2024-11-28T08:05:05.865557Z",
          "shell.execute_reply.started": "2024-11-28T08:05:05.847368Z",
          "shell.execute_reply": "2024-11-28T08:05:05.864516Z"
        },
        "id": "kURsWiU52sw4",
        "outputId": "ea21a1c7-9be2-4ce2-b5e2-07f239bcf15f"
      },
      "outputs": [
        {
          "name": "stdout",
          "text": "\nFinal centroids after convergence:\nCentroid 1: [5.8   2.125]\nCentroid 2: [ 4.2        -0.05555556]\n\nFinal assignments after convergence:\nData point [5.1 3.5] is assigned to centroid 1\nData point [4.9 3. ] is assigned to centroid 1\nData point [5.8 2.7] is assigned to centroid 1\nData point [6. 3.] is assigned to centroid 1\nData point [6.7 3.1] is assigned to centroid 1\nData point [4.5 2.3] is assigned to centroid 1\nData point [6.1 2.8] is assigned to centroid 1\nData point [5.2 3.2] is assigned to centroid 1\nData point [5.5 2.6] is assigned to centroid 1\nData point [5. 2.] is assigned to centroid 1\nData point [8.  0.5] is assigned to centroid 1\nData point [7.5 0.8] is assigned to centroid 1\nData point [ 8.1 -0.1] is assigned to centroid 1\nData point [2.5 3.5] is assigned to centroid 1\nData point [1. 3.] is assigned to centroid 2\nData point [ 4.5 -1. ] is assigned to centroid 2\nData point [ 3.  -0.5] is assigned to centroid 2\nData point [ 5.1 -0.2] is assigned to centroid 2\nData point [ 6.  -1.5] is assigned to centroid 2\nData point [ 3.5 -0.1] is assigned to centroid 2\nData point [4. 0.] is assigned to centroid 2\nData point [6.1 0.5] is assigned to centroid 1\nData point [ 5.4 -0.5] is assigned to centroid 2\nData point [5.3 0.3] is assigned to centroid 2\nData point [5.8 0.6] is assigned to centroid 1\n",
          "output_type": "stream"
        }
      ],
      "execution_count": null
    },
    {
      "cell_type": "code",
      "source": [
        "\n",
        "\n",
        "def plot_clusters(data_points, centroids, assignments, title):\n",
        "    plt.figure(figsize=(8, 6))\n",
        "    for i in range(len(centroids)):\n",
        "        cluster_points = data_points[np.array(assignments) == i]\n",
        "        plt.scatter(cluster_points[:, 0], cluster_points[:, 1], label=f\"Cluster {i+1}\")\n",
        "\n",
        "    centroids = np.array(centroids)\n",
        "    plt.scatter(centroids[:, 0], centroids[:, 1], c='black', marker='x', label=\"Centroids\", s=100)\n",
        "\n",
        "    plt.title(title)\n",
        "    plt.xlabel(\"X-axis\")\n",
        "    plt.ylabel(\"Y-axis\")\n",
        "    plt.legend()\n",
        "    plt.grid(True)\n",
        "    plt.show()\n",
        "\n"
      ],
      "metadata": {
        "trusted": true,
        "execution": {
          "iopub.status.busy": "2024-11-28T08:05:05.870553Z",
          "iopub.execute_input": "2024-11-28T08:05:05.870872Z",
          "iopub.status.idle": "2024-11-28T08:05:05.88104Z",
          "shell.execute_reply.started": "2024-11-28T08:05:05.87084Z",
          "shell.execute_reply": "2024-11-28T08:05:05.880008Z"
        },
        "id": "N5oNTQoQ2sw4"
      },
      "outputs": [],
      "execution_count": null
    },
    {
      "cell_type": "code",
      "source": [
        "initial_centroids = [u1, u2]\n",
        "initial_assignments = assign_to_centroids(X, initial_centroids)\n",
        "plot_clusters(X, initial_centroids, initial_assignments, \"Clusters at the Start of the Process\")\n",
        "\n"
      ],
      "metadata": {
        "trusted": true,
        "execution": {
          "iopub.status.busy": "2024-11-28T08:05:05.888539Z",
          "iopub.execute_input": "2024-11-28T08:05:05.889051Z",
          "iopub.status.idle": "2024-11-28T08:05:06.343804Z",
          "shell.execute_reply.started": "2024-11-28T08:05:05.889001Z",
          "shell.execute_reply": "2024-11-28T08:05:06.342784Z"
        },
        "id": "1ogJlI9j2sw4",
        "outputId": "feda6fdb-7434-4045-855c-e422c9139ef2"
      },
      "outputs": [
        {
          "output_type": "display_data",
          "data": {
            "text/plain": "<Figure size 800x600 with 1 Axes>",
            "image/png": "[encoded data removed]"
          },
          "metadata": {}
        }
      ],
      "execution_count": null
    },
    {
      "cell_type": "code",
      "source": [
        "plot_clusters(X, final_centroids, final_assignments, \"Clusters After Convergence\")\n"
      ],
      "metadata": {
        "trusted": true,
        "execution": {
          "iopub.status.busy": "2024-11-28T08:05:06.3459Z",
          "iopub.execute_input": "2024-11-28T08:05:06.346327Z",
          "iopub.status.idle": "2024-11-28T08:05:06.663195Z",
          "shell.execute_reply.started": "2024-11-28T08:05:06.346283Z",
          "shell.execute_reply": "2024-11-28T08:05:06.66221Z"
        },
        "id": "hJLFRhui2sw5",
        "outputId": "e19fd8b7-1ca0-4cc5-acb6-0d6ded495285"
      },
      "outputs": [
        {
          "output_type": "display_data",
          "data": {
            "text/plain": "<Figure size 800x600 with 1 Axes>",
            "image/png": "[encoded data removed]"
          },
          "metadata": {}
        }
      ],
      "execution_count": null
    },
    {
      "cell_type": "code",
      "source": [
        "def random_initialization(data_points, k):\n",
        "    random_indices = np.random.choice(len(data_points), size=k, replace=False)\n",
        "    return data_points[random_indices]"
      ],
      "metadata": {
        "trusted": true,
        "execution": {
          "iopub.status.busy": "2024-11-28T08:05:06.664773Z",
          "iopub.execute_input": "2024-11-28T08:05:06.66523Z",
          "iopub.status.idle": "2024-11-28T08:05:06.671082Z",
          "shell.execute_reply.started": "2024-11-28T08:05:06.665183Z",
          "shell.execute_reply": "2024-11-28T08:05:06.669916Z"
        },
        "id": "FkT1UupE2sw5"
      },
      "outputs": [],
      "execution_count": null
    },
    {
      "cell_type": "code",
      "source": [
        "\n",
        "random_centroids = random_initialization(X, 2)\n",
        "assig = assign_to_centroids(X, random_centroids)\n",
        "\n"
      ],
      "metadata": {
        "trusted": true,
        "execution": {
          "iopub.status.busy": "2024-11-28T08:05:06.67326Z",
          "iopub.execute_input": "2024-11-28T08:05:06.673585Z",
          "iopub.status.idle": "2024-11-28T08:05:06.693123Z",
          "shell.execute_reply.started": "2024-11-28T08:05:06.673556Z",
          "shell.execute_reply": "2024-11-28T08:05:06.692009Z"
        },
        "id": "1xhULHUs2sw5"
      },
      "outputs": [],
      "execution_count": null
    },
    {
      "cell_type": "code",
      "source": [
        "final_centroids_random, final_assignments_random = k_means(X, random_centroids)"
      ],
      "metadata": {
        "trusted": true,
        "execution": {
          "iopub.status.busy": "2024-11-28T08:05:06.694351Z",
          "iopub.execute_input": "2024-11-28T08:05:06.694688Z",
          "iopub.status.idle": "2024-11-28T08:05:06.719832Z",
          "shell.execute_reply.started": "2024-11-28T08:05:06.694646Z",
          "shell.execute_reply": "2024-11-28T08:05:06.718706Z"
        },
        "id": "xo-SqMsk2sw6",
        "outputId": "fa733b2c-8148-4a40-a540-92109f274b11"
      },
      "outputs": [
        {
          "name": "stdout",
          "text": "Converged at iteration 2\n",
          "output_type": "stream"
        }
      ],
      "execution_count": null
    },
    {
      "cell_type": "code",
      "source": [
        "plot_clusters(X, final_centroids_random, final_assignments_random, \"Clusters with Random Initialization\")\n"
      ],
      "metadata": {
        "trusted": true,
        "execution": {
          "iopub.status.busy": "2024-11-28T08:05:06.721281Z",
          "iopub.execute_input": "2024-11-28T08:05:06.721655Z",
          "iopub.status.idle": "2024-11-28T08:05:07.051414Z",
          "shell.execute_reply.started": "2024-11-28T08:05:06.72162Z",
          "shell.execute_reply": "2024-11-28T08:05:07.050203Z"
        },
        "id": "r4gWedI-2sw6",
        "outputId": "ead4b341-761c-4b1b-e03b-86757b3c0a4e"
      },
      "outputs": [
        {
          "output_type": "display_data",
          "data": {
            "text/plain": "<Figure size 800x600 with 1 Axes>",
            "image/png": "[encoded data removed]"
          },
          "metadata": {}
        }
      ],
      "execution_count": null
    },
    {
      "cell_type": "code",
      "source": [
        "def dist(X, centroids, assignments):\n",
        "    inertia = 0\n",
        "    for i in range(len(centroids)):\n",
        "        cluster_points = X[np.array(assignments) == i]\n",
        "        inertia += np.sum(np.linalg.norm(cluster_points - centroids[i], axis=1) ** 2)\n",
        "    return inertia"
      ],
      "metadata": {
        "trusted": true,
        "execution": {
          "iopub.status.busy": "2024-11-28T08:05:07.052957Z",
          "iopub.execute_input": "2024-11-28T08:05:07.053323Z",
          "iopub.status.idle": "2024-11-28T08:05:07.059475Z",
          "shell.execute_reply.started": "2024-11-28T08:05:07.05329Z",
          "shell.execute_reply": "2024-11-28T08:05:07.058373Z"
        },
        "id": "MPfdCYWL2sw7"
      },
      "outputs": [],
      "execution_count": null
    },
    {
      "cell_type": "code",
      "source": [
        "a1 = dist(X,  final_centroids_random, final_assignments_random)\n",
        "a2 = dist(X, random_centroids, assig)\n",
        "a3 = dist(X,final_centroids, final_assignments)\n",
        "a4 = dist(X,centroids, assignments)\n"
      ],
      "metadata": {
        "trusted": true,
        "execution": {
          "iopub.status.busy": "2024-11-28T08:05:07.060841Z",
          "iopub.execute_input": "2024-11-28T08:05:07.061232Z",
          "iopub.status.idle": "2024-11-28T08:05:07.077793Z",
          "shell.execute_reply.started": "2024-11-28T08:05:07.061187Z",
          "shell.execute_reply": "2024-11-28T08:05:07.076635Z"
        },
        "id": "cq3OHtJb2sw7"
      },
      "outputs": [],
      "execution_count": null
    },
    {
      "cell_type": "code",
      "source": [
        "print(\"Final after convergence sum of square using random\")\n",
        "print(a1)\n",
        "\n",
        "print(\"Sum of square using random\")\n",
        "print(a2)\n",
        "\n",
        "print(\"Final after convergence sum of square using initial\")\n",
        "print(a3)\n",
        "\n",
        "print(\"sum of square using initial\")\n",
        "print(a4)\n"
      ],
      "metadata": {
        "trusted": true,
        "execution": {
          "iopub.status.busy": "2024-11-28T08:05:07.07942Z",
          "iopub.execute_input": "2024-11-28T08:05:07.07985Z",
          "iopub.status.idle": "2024-11-28T08:05:07.105609Z",
          "shell.execute_reply.started": "2024-11-28T08:05:07.079806Z",
          "shell.execute_reply": "2024-11-28T08:05:07.104446Z"
        },
        "id": "MA8Q50gp2sw7",
        "outputId": "b5a2f81f-98cb-4d1b-89c8-72d18e077a00"
      },
      "outputs": [
        {
          "name": "stdout",
          "text": "Final after convergence sum of square using random\n67.15833333333333\nSum of square using random\n94.08999999999999\nFinal after convergence sum of square using initial\n83.67222222222222\nsum of square using initial\n301.75\n",
          "output_type": "stream"
        }
      ],
      "execution_count": null
    },
    {
      "cell_type": "code",
      "source": [
        "class K_Means:\n",
        "\n",
        "    def __init__(self, k=2, tolerance = 0.001, max_iter = 500):\n",
        "        self.k = k\n",
        "        self.max_iterations = max_iter\n",
        "        self.tolerance = tolerance\n",
        "\n",
        "    def euclidean_distance(self, point1, point2):\n",
        "        #return math.sqrt((point1[0]-point2[0])**2 + (point1[1]-point2[1])**2 + (point1[2]-point2[2])**2)   #sqrt((x1-x2)^2 + (y1-y2)^2)\n",
        "        return np.linalg.norm(point1-point2, axis=0)\n",
        "\n",
        "    def predict(self,data):\n",
        "        distances = [np.linalg.norm(data-self.centroids[centroid]) for centroid in self.centroids]\n",
        "        classification = distances.index(min(distances))\n",
        "        return classification\n",
        "\n",
        "    def fit(self, data):\n",
        "        self.centroids = {}\n",
        "        for i in range(self.k):\n",
        "            self.centroids[i] = data[i]\n",
        "\n",
        "\n",
        "        for i in range(self.max_iterations):\n",
        "            self.classes = {}\n",
        "            for j in range(self.k):\n",
        "                self.classes[j] = []\n",
        "\n",
        "            for point in data:\n",
        "                distances = []\n",
        "                for index in self.centroids:\n",
        "                    distances.append(self.euclidean_distance(point,self.centroids[index]))\n",
        "                cluster_index = distances.index(min(distances))\n",
        "                self.classes[cluster_index].append(point)\n",
        "\n",
        "            previous = dict(self.centroids)\n",
        "            for cluster_index in self.classes:\n",
        "                self.centroids[cluster_index] = np.average(self.classes[cluster_index], axis = 0)\n",
        "\n",
        "\n",
        "\n",
        "            isOptimal = True\n",
        "\n",
        "            for centroid in self.centroids:\n",
        "                original_centroid = previous[centroid]\n",
        "                curr = self.centroids[centroid]\n",
        "                if np.sum((curr - original_centroid)/original_centroid * 100.0) > self.tolerance:\n",
        "                    isOptimal = False\n",
        "            if isOptimal:\n",
        "                break\n"
      ],
      "metadata": {
        "trusted": true,
        "execution": {
          "iopub.status.busy": "2024-11-28T08:05:07.108696Z",
          "iopub.execute_input": "2024-11-28T08:05:07.109034Z",
          "iopub.status.idle": "2024-11-28T08:05:07.124458Z",
          "shell.execute_reply.started": "2024-11-28T08:05:07.108999Z",
          "shell.execute_reply": "2024-11-28T08:05:07.123527Z"
        },
        "id": "S0hhNL7a2sw7"
      },
      "outputs": [],
      "execution_count": null
    },
    {
      "cell_type": "code",
      "source": [
        "\n",
        "X = np.array([\n",
        "    [5.1, 3.5],\n",
        "    [4.9, 3.0],\n",
        "    [5.8, 2.7],\n",
        "    [6.0, 3.0],\n",
        "    [6.7, 3.1],\n",
        "    [4.5, 2.3],\n",
        "    [6.1, 2.8],\n",
        "    [5.2, 3.2],\n",
        "    [5.5, 2.6],\n",
        "    [5.0, 2.0],\n",
        "    [8.0, 0.5],\n",
        "    [7.5, 0.8],\n",
        "    [8.1, -0.1],\n",
        "    [2.5, 3.5],\n",
        "    [1.0, 3.0],\n",
        "    [4.5, -1.0],\n",
        "    [3.0, -0.5],\n",
        "    [5.1, -0.2],\n",
        "    [6.0, -1.5],\n",
        "    [3.5, -0.1],\n",
        "    [4.0, 0.0],\n",
        "    [6.1, 0.5],\n",
        "    [5.4, -0.5],\n",
        "    [5.3, 0.3],\n",
        "    [5.8, 0.6]\n",
        "])\n"
      ],
      "metadata": {
        "trusted": true,
        "execution": {
          "iopub.status.busy": "2024-11-28T08:05:07.125902Z",
          "iopub.execute_input": "2024-11-28T08:05:07.12671Z",
          "iopub.status.idle": "2024-11-28T08:05:07.152745Z",
          "shell.execute_reply.started": "2024-11-28T08:05:07.126654Z",
          "shell.execute_reply": "2024-11-28T08:05:07.15156Z"
        },
        "id": "w1PJJh-Z2sw8"
      },
      "outputs": [],
      "execution_count": null
    },
    {
      "cell_type": "code",
      "source": [
        "class K_Means:\n",
        "    def __init__(self, k, data):\n",
        "        self.k = k\n",
        "        self.data = data\n",
        "        self.centroids = None\n",
        "\n",
        "    def initialise_centroids(self):\n",
        "        initial_centroids = np.random.permutation(self.data.shape[0])[:self.k]\n",
        "        self.centroids = self.data[initial_centroids]\n",
        "\n",
        "    def fit(self):\n",
        "        m = np.shape(self.data)[0]\n",
        "        cluster_assignments = np.zeros((m, 2))  # Column 0: Cluster index, Column 1: Distance\n",
        "\n",
        "        self.initialise_centroids()\n",
        "        cents = self.centroids.copy()\n",
        "\n",
        "        changed = True\n",
        "        num_iter = 0\n",
        "\n",
        "        while changed and num_iter < 100:\n",
        "            changed = False\n",
        "\n",
        "            for i in range(m):\n",
        "                min_dist = np.inf\n",
        "                min_index = -1\n",
        "                for j in range(self.k):\n",
        "                    dist_ji = euclidean_distance(cents[j, :], self.data[i, :])\n",
        "                    if dist_ji < min_dist:\n",
        "                        min_dist = dist_ji\n",
        "                        min_index = j\n",
        "\n",
        "                if cluster_assignments[i, 0] != min_index:\n",
        "                    changed = True\n",
        "\n",
        "                cluster_assignments[i, :] = min_index, min_dist ** 2\n",
        "\n",
        "            for cent in range(self.k):\n",
        "                points = self.data[np.nonzero(cluster_assignments[:, 0] == cent)[0]]\n",
        "                if len(points) > 0:\n",
        "                    cents[cent, :] = np.mean(points, axis=0)\n",
        "\n",
        "            num_iter += 1\n",
        "\n",
        "        return cents, cluster_assignments, num_iter\n"
      ],
      "metadata": {
        "trusted": true,
        "execution": {
          "iopub.status.busy": "2024-11-28T08:05:07.154864Z",
          "iopub.execute_input": "2024-11-28T08:05:07.155306Z",
          "iopub.status.idle": "2024-11-28T08:05:07.180949Z",
          "shell.execute_reply.started": "2024-11-28T08:05:07.155255Z",
          "shell.execute_reply": "2024-11-28T08:05:07.180044Z"
        },
        "id": "xj5OWIm22sw8"
      },
      "outputs": [],
      "execution_count": null
    },
    {
      "cell_type": "code",
      "source": [
        "def elbow_method(X, max_k=10):\n",
        "    costs = []\n",
        "\n",
        "    for k in range(1, max_k + 1):\n",
        "        kmeans = K_Means(k=k, data=X)\n",
        "        centroids, cluster_assignments, _ = kmeans.fit()\n",
        "\n",
        "        wcss = np.sum(cluster_assignments[:, 1])\n",
        "        costs.append(wcss)\n",
        "\n",
        "    plt.plot(range(1, max_k + 1), costs)\n",
        "    plt.title(\"Elbow Curve\")\n",
        "    plt.xlabel(\"K (Number of Clusters)\")\n",
        "    plt.ylabel(\"Within-Cluster Sum of Squares (WCSS)\")\n",
        "    plt.grid(True)\n",
        "    plt.show()\n",
        "\n",
        "    return costs"
      ],
      "metadata": {
        "trusted": true,
        "execution": {
          "iopub.status.busy": "2024-11-28T08:05:07.182467Z",
          "iopub.execute_input": "2024-11-28T08:05:07.182914Z",
          "iopub.status.idle": "2024-11-28T08:05:07.19329Z",
          "shell.execute_reply.started": "2024-11-28T08:05:07.18287Z",
          "shell.execute_reply": "2024-11-28T08:05:07.192466Z"
        },
        "id": "tp4X3CII2sw8"
      },
      "outputs": [],
      "execution_count": null
    },
    {
      "cell_type": "code",
      "source": [
        "def plot_clusters(X, centroids, cluster_assignments):\n",
        "    plt.scatter(X[:, 0], X[:, 1], c=cluster_assignments[:, 0], cmap='viridis', marker='o', s=100)\n",
        "    plt.scatter(centroids[:, 0], centroids[:, 1], c='red', marker='x', s=200, label=\"Centroids\")\n",
        "    plt.title(f\"K-Means Clustering (K={len(centroids)})\")\n",
        "    plt.legend()\n",
        "    plt.show()"
      ],
      "metadata": {
        "trusted": true,
        "execution": {
          "iopub.status.busy": "2024-11-28T08:05:07.194462Z",
          "iopub.execute_input": "2024-11-28T08:05:07.194953Z",
          "iopub.status.idle": "2024-11-28T08:05:07.214439Z",
          "shell.execute_reply.started": "2024-11-28T08:05:07.194818Z",
          "shell.execute_reply": "2024-11-28T08:05:07.213509Z"
        },
        "id": "PbnOC6VX2sw9"
      },
      "outputs": [],
      "execution_count": null
    },
    {
      "cell_type": "code",
      "source": [
        "costs = elbow_method(X, max_k=10)\n"
      ],
      "metadata": {
        "trusted": true,
        "execution": {
          "iopub.status.busy": "2024-11-28T08:10:38.152953Z",
          "iopub.execute_input": "2024-11-28T08:10:38.153309Z",
          "iopub.status.idle": "2024-11-28T08:10:38.396412Z",
          "shell.execute_reply.started": "2024-11-28T08:10:38.153279Z",
          "shell.execute_reply": "2024-11-28T08:10:38.395318Z"
        },
        "id": "AsIy85VB2sw9",
        "outputId": "a58593e1-595d-4e50-e8cb-ac0827105046"
      },
      "outputs": [
        {
          "output_type": "display_data",
          "data": {
            "text/plain": "<Figure size 640x480 with 1 Axes>",
            "image/png": "[encoded data removed]"
          },
          "metadata": {}
        }
      ],
      "execution_count": null
    },
    {
      "cell_type": "code",
      "source": [
        "optimal_k = 4\n"
      ],
      "metadata": {
        "trusted": true,
        "execution": {
          "iopub.status.busy": "2024-11-28T08:05:07.53817Z",
          "iopub.execute_input": "2024-11-28T08:05:07.538476Z",
          "iopub.status.idle": "2024-11-28T08:05:07.542672Z",
          "shell.execute_reply.started": "2024-11-28T08:05:07.538447Z",
          "shell.execute_reply": "2024-11-28T08:05:07.54167Z"
        },
        "id": "lSRyfVOa2sw9"
      },
      "outputs": [],
      "execution_count": null
    },
    {
      "cell_type": "code",
      "source": [
        "kmeans = K_Means(k=optimal_k, data=X)\n",
        "centroids, cluster_assignments, _ = kmeans.fit()\n",
        "plot_clusters(X, centroids, cluster_assignments)\n"
      ],
      "metadata": {
        "trusted": true,
        "execution": {
          "iopub.status.busy": "2024-11-28T08:05:07.543899Z",
          "iopub.execute_input": "2024-11-28T08:05:07.544193Z",
          "iopub.status.idle": "2024-11-28T08:05:07.813778Z",
          "shell.execute_reply.started": "2024-11-28T08:05:07.544164Z",
          "shell.execute_reply": "2024-11-28T08:05:07.812768Z"
        },
        "id": "CFrIyBd92sw9",
        "outputId": "35d849a6-c49d-4a79-9943-16fab1c915c0"
      },
      "outputs": [
        {
          "output_type": "display_data",
          "data": {
            "text/plain": "<Figure size 640x480 with 1 Axes>",
            "image/png": "[encoded data removed]"
          },
          "metadata": {}
        }
      ],
      "execution_count": null
    },
    {
      "cell_type": "code",
      "source": [
        "print(centroids)\n",
        "print(cluster_assignments)"
      ],
      "metadata": {
        "trusted": true,
        "execution": {
          "iopub.status.busy": "2024-11-28T08:08:08.044531Z",
          "iopub.execute_input": "2024-11-28T08:08:08.045454Z",
          "iopub.status.idle": "2024-11-28T08:08:08.050962Z",
          "shell.execute_reply.started": "2024-11-28T08:08:08.045416Z",
          "shell.execute_reply": "2024-11-28T08:08:08.049897Z"
        },
        "id": "wMlA3nOn2sw-",
        "outputId": "53acebf8-aaf1-4411-9f27-67ca0e3e51a2"
      },
      "outputs": [
        {
          "name": "stdout",
          "text": "[[ 5.45714286 -0.25714286]\n [ 7.86666667  0.4       ]\n [ 5.20909091  2.88181818]\n [ 2.875       0.6       ]]\n[[2.         0.39404959]\n [2.         0.10950413]\n [2.         0.3822314 ]\n [2.         0.63950413]\n [2.         2.27041322]\n [2.         0.84132231]\n [2.         0.80041322]\n [2.         0.10132231]\n [2.         0.16404959]\n [2.         0.82132231]\n [1.         0.02777778]\n [1.         0.29444444]\n [1.         0.30444444]\n [2.         7.72132231]\n [3.         9.275625  ]\n [0.         1.46795918]\n [3.         1.225625  ]\n [0.         0.13081633]\n [0.         1.83938776]\n [3.         0.880625  ]\n [3.         1.625625  ]\n [0.         0.98653061]\n [0.         0.0622449 ]\n [0.         0.33510204]\n [0.         0.8522449 ]]\n",
          "output_type": "stream"
        }
      ],
      "execution_count": null
    },
    {
      "cell_type": "code",
      "source": [
        "a0=0\n",
        "a1=0\n",
        "a2=0\n",
        "a3=0\n",
        "for i in range(len(cluster_assignments)):\n",
        "    if cluster_assignments[i][0]==0:\n",
        "        a0+=cluster_assignments[i][1]\n",
        "    if cluster_assignments[i][0]==1:\n",
        "        a1+=cluster_assignments[i][1]\n",
        "    if cluster_assignments[i][0]==0:\n",
        "        a2+=cluster_assignments[i][1]\n",
        "    if cluster_assignments[i][0]==0:\n",
        "        a3+=cluster_assignments[i][1]"
      ],
      "metadata": {
        "trusted": true,
        "execution": {
          "iopub.status.busy": "2024-11-28T08:12:55.507681Z",
          "iopub.execute_input": "2024-11-28T08:12:55.508075Z",
          "iopub.status.idle": "2024-11-28T08:12:55.514462Z",
          "shell.execute_reply.started": "2024-11-28T08:12:55.508042Z",
          "shell.execute_reply": "2024-11-28T08:12:55.513419Z"
        },
        "id": "DHSxSApx2sw-"
      },
      "outputs": [],
      "execution_count": null
    },
    {
      "cell_type": "code",
      "source": [
        "print(a0,a1,a2,a3)"
      ],
      "metadata": {
        "trusted": true,
        "execution": {
          "iopub.status.busy": "2024-11-28T08:13:24.46358Z",
          "iopub.execute_input": "2024-11-28T08:13:24.464093Z",
          "iopub.status.idle": "2024-11-28T08:13:24.470771Z",
          "shell.execute_reply.started": "2024-11-28T08:13:24.464043Z",
          "shell.execute_reply": "2024-11-28T08:13:24.469442Z"
        },
        "id": "YFTmeIyb2sw-",
        "outputId": "4ae4b27f-8acc-4dc6-d0e4-9cb804618e3a"
      },
      "outputs": [
        {
          "name": "stdout",
          "text": "5.6742857142857135 0.6266666666666667 5.6742857142857135 5.6742857142857135\n",
          "output_type": "stream"
        }
      ],
      "execution_count": null
    },
    {
      "cell_type": "code",
      "source": [
        "print(a0+a1+a2+a3)"
      ],
      "metadata": {
        "trusted": true,
        "execution": {
          "iopub.status.busy": "2024-11-28T08:16:18.494155Z",
          "iopub.execute_input": "2024-11-28T08:16:18.495037Z",
          "iopub.status.idle": "2024-11-28T08:16:18.500113Z",
          "shell.execute_reply.started": "2024-11-28T08:16:18.494999Z",
          "shell.execute_reply": "2024-11-28T08:16:18.499066Z"
        },
        "id": "WoimvaSy2sw_",
        "outputId": "b33b46ad-3de5-4e4f-edc6-5f6ea891956d"
      },
      "outputs": [
        {
          "name": "stdout",
          "text": "17.649523809523807\n",
          "output_type": "stream"
        }
      ],
      "execution_count": null
    }
  ]
}